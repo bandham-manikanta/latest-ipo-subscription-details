{
 "cells": [
  {
   "cell_type": "code",
   "execution_count": 1,
   "metadata": {},
   "outputs": [],
   "source": [
    "from bs4 import BeautifulSoup\n",
    "import requests"
   ]
  },
  {
   "cell_type": "code",
   "execution_count": 2,
   "metadata": {},
   "outputs": [],
   "source": [
    "url = 'https://www.chittorgarh.com/ipo/latent-view-analytics-ipo/1178/'\n",
    "resp = requests.get(url)"
   ]
  },
  {
   "cell_type": "code",
   "execution_count": 47,
   "metadata": {},
   "outputs": [
    {
     "name": "stdout",
     "output_type": "stream",
     "text": [
      "LATENTVIEW\n"
     ]
    }
   ],
   "source": [
    "soup = BeautifulSoup(resp.content, 'html.parser')\n",
    "\n",
    "card_tags = soup.findAll('div',{'class':'card'})\n",
    "\n",
    "listing_date_card = next((x for x in card_tags if 'Listing Date' in x.text), None)\n",
    "table_tag = listing_date_card.find('table') if listing_date_card else None\n",
    "tr_tags = table_tag.findAll('tr') if table_tag else None\n",
    "nse_symbol_tag = next((x for x in tr_tags if 'NSE Symbol' in x.text), None) if tr_tags else None\n",
    "nse_symbol = nse_symbol_tag.text.split('NSE Symbol')[1].strip() if nse_symbol_tag else None\n",
    "print(nse_symbol)"
   ]
  },
  {
   "cell_type": "code",
   "execution_count": null,
   "metadata": {},
   "outputs": [],
   "source": []
  }
 ],
 "metadata": {
  "interpreter": {
   "hash": "88edfe09f3c148f676a933bb281f617bb8fb2ddfce4022da4c62ad419a3df93d"
  },
  "kernelspec": {
   "display_name": "Python 3.8.12 64-bit ('fun_projects': conda)",
   "language": "python",
   "name": "python3"
  },
  "language_info": {
   "codemirror_mode": {
    "name": "ipython",
    "version": 3
   },
   "file_extension": ".py",
   "mimetype": "text/x-python",
   "name": "python",
   "nbconvert_exporter": "python",
   "pygments_lexer": "ipython3",
   "version": "3.8.12"
  },
  "orig_nbformat": 4
 },
 "nbformat": 4,
 "nbformat_minor": 2
}
