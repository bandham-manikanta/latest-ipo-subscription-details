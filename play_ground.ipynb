{
 "cells": [
  {
   "cell_type": "code",
   "execution_count": 74,
   "metadata": {},
   "outputs": [],
   "source": [
    "from bs4 import BeautifulSoup\n",
    "import requests"
   ]
  },
  {
   "cell_type": "code",
   "execution_count": 75,
   "metadata": {},
   "outputs": [],
   "source": [
    "url = 'https://www.chittorgarh.com/ipo/latent-view-analytics-ipo/1178/'\n",
    "# url = 'https://www.chittorgarh.com/ipo/eki-energy-services-ipo/1101/'\n",
    "resp = requests.get(url)"
   ]
  },
  {
   "cell_type": "code",
   "execution_count": 96,
   "metadata": {},
   "outputs": [],
   "source": [
    "soup = BeautifulSoup(resp.content, 'html.parser')\n",
    "\n",
    "card_tags = soup.findAll('div',{'class':'card'})\n",
    "\n",
    "listing_date_card = next((x for x in card_tags if 'Listing Date' in x.text), None)\n",
    "table_tag = listing_date_card.find('table') if listing_date_card else None\n",
    "tr_tags = table_tag.findAll('tr') if table_tag else None\n",
    "all_symbol_tags = [x for x in tr_tags if ('NSE Symbol' in x.text or 'BSE Script Code' in x.text)]\n",
    "all_symbol_tags = list(reversed([x.findAll('td') for x in all_symbol_tags]))\n",
    "symbol_td_tags = next((x for x in all_symbol_tags if len(x[-1].text.strip())>0 ), None)\n",
    "symbol = symbol_td_tags[0].text[:3] + ':' + symbol_td_tags[1].text"
   ]
  },
  {
   "cell_type": "code",
   "execution_count": 95,
   "metadata": {},
   "outputs": [
    {
     "data": {
      "text/plain": [
       "'NSE:LATENTVIEW'"
      ]
     },
     "execution_count": 95,
     "metadata": {},
     "output_type": "execute_result"
    }
   ],
   "source": []
  },
  {
   "cell_type": "code",
   "execution_count": null,
   "metadata": {},
   "outputs": [],
   "source": []
  }
 ],
 "metadata": {
  "interpreter": {
   "hash": "88edfe09f3c148f676a933bb281f617bb8fb2ddfce4022da4c62ad419a3df93d"
  },
  "kernelspec": {
   "display_name": "Python 3.8.12 64-bit ('fun_projects': conda)",
   "language": "python",
   "name": "python3"
  },
  "language_info": {
   "codemirror_mode": {
    "name": "ipython",
    "version": 3
   },
   "file_extension": ".py",
   "mimetype": "text/x-python",
   "name": "python",
   "nbconvert_exporter": "python",
   "pygments_lexer": "ipython3",
   "version": "3.8.12"
  },
  "orig_nbformat": 4
 },
 "nbformat": 4,
 "nbformat_minor": 2
}
